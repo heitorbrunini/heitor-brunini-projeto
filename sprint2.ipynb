{
 "cells": [
  {
   "cell_type": "markdown",
   "id": "010d633e-f909-47ba-937f-93c04c5c31f7",
   "metadata": {},
   "source": [
    "# Sprint 02 - Mineração de Dados\n",
    "# Análise Inicial do Dataset\n",
    "\n",
    "# 1. Importar bibliotecas necessárias"
   ]
  },
  {
   "cell_type": "code",
   "execution_count": 1,
   "id": "a1774fc1-18f9-43f7-a708-638788c9dd18",
   "metadata": {},
   "outputs": [],
   "source": [
    "import pandas as pd"
   ]
  },
  {
   "cell_type": "markdown",
   "id": "f8c6af58-74e2-42a7-b66c-7ec563028647",
   "metadata": {},
   "source": [
    "## 2. Carregar o dataset"
   ]
  },
  {
   "cell_type": "code",
   "execution_count": 2,
   "id": "ddfd6d24-eacd-48a5-8a9b-f45e3f624ff7",
   "metadata": {},
   "outputs": [],
   "source": [
    "df = pd.read_csv('br_rj_isp_estatisticas_seguranca_armas_apreendidas_mensal.csv') "
   ]
  },
  {
   "cell_type": "markdown",
   "id": "e6c4b0e4-8bbd-4285-83da-a5fa39de4cc8",
   "metadata": {},
   "source": [
    "## 3. Visualizar as primeiras linhas do dataset"
   ]
  },
  {
   "cell_type": "code",
   "execution_count": 3,
   "id": "da835a6a-a1c8-4a14-bb07-c65173088ba0",
   "metadata": {},
   "outputs": [
    {
     "name": "stdout",
     "output_type": "stream",
     "text": [
      "Visualização das 5 primeiras linhas do dataset:\n"
     ]
    },
    {
     "data": {
      "text/html": [
       "<div>\n",
       "<style scoped>\n",
       "    .dataframe tbody tr th:only-of-type {\n",
       "        vertical-align: middle;\n",
       "    }\n",
       "\n",
       "    .dataframe tbody tr th {\n",
       "        vertical-align: top;\n",
       "    }\n",
       "\n",
       "    .dataframe thead th {\n",
       "        text-align: right;\n",
       "    }\n",
       "</style>\n",
       "<table border=\"1\" class=\"dataframe\">\n",
       "  <thead>\n",
       "    <tr style=\"text-align: right;\">\n",
       "      <th></th>\n",
       "      <th>ano</th>\n",
       "      <th>mes</th>\n",
       "      <th>id_cisp</th>\n",
       "      <th>id_aisp</th>\n",
       "      <th>id_risp</th>\n",
       "      <th>quantidade_arma_fabricacao_caseira</th>\n",
       "      <th>quantidade_carabina</th>\n",
       "      <th>quantidade_espingarda</th>\n",
       "      <th>quantidade_fuzil</th>\n",
       "      <th>quantidade_garrucha</th>\n",
       "      <th>quantidade_garruchao</th>\n",
       "      <th>quantidade_metralhadora</th>\n",
       "      <th>quantidade_outros</th>\n",
       "      <th>quantidade_pistola</th>\n",
       "      <th>quantidade_revolver</th>\n",
       "      <th>quantidade_submetralhadora</th>\n",
       "      <th>total</th>\n",
       "    </tr>\n",
       "  </thead>\n",
       "  <tbody>\n",
       "    <tr>\n",
       "      <th>0</th>\n",
       "      <td>2007</td>\n",
       "      <td>10</td>\n",
       "      <td>10</td>\n",
       "      <td>2</td>\n",
       "      <td>1</td>\n",
       "      <td>0</td>\n",
       "      <td>0</td>\n",
       "      <td>3</td>\n",
       "      <td>7</td>\n",
       "      <td>1</td>\n",
       "      <td>0</td>\n",
       "      <td>3</td>\n",
       "      <td>0</td>\n",
       "      <td>12</td>\n",
       "      <td>6</td>\n",
       "      <td>0</td>\n",
       "      <td>32</td>\n",
       "    </tr>\n",
       "    <tr>\n",
       "      <th>1</th>\n",
       "      <td>2021</td>\n",
       "      <td>2</td>\n",
       "      <td>105</td>\n",
       "      <td>26</td>\n",
       "      <td>7</td>\n",
       "      <td>0</td>\n",
       "      <td>0</td>\n",
       "      <td>3</td>\n",
       "      <td>0</td>\n",
       "      <td>7</td>\n",
       "      <td>8</td>\n",
       "      <td>0</td>\n",
       "      <td>0</td>\n",
       "      <td>9</td>\n",
       "      <td>11</td>\n",
       "      <td>0</td>\n",
       "      <td>38</td>\n",
       "    </tr>\n",
       "    <tr>\n",
       "      <th>2</th>\n",
       "      <td>2013</td>\n",
       "      <td>10</td>\n",
       "      <td>105</td>\n",
       "      <td>26</td>\n",
       "      <td>7</td>\n",
       "      <td>0</td>\n",
       "      <td>1</td>\n",
       "      <td>4</td>\n",
       "      <td>0</td>\n",
       "      <td>2</td>\n",
       "      <td>0</td>\n",
       "      <td>0</td>\n",
       "      <td>2</td>\n",
       "      <td>5</td>\n",
       "      <td>7</td>\n",
       "      <td>0</td>\n",
       "      <td>21</td>\n",
       "    </tr>\n",
       "    <tr>\n",
       "      <th>3</th>\n",
       "      <td>2021</td>\n",
       "      <td>5</td>\n",
       "      <td>105</td>\n",
       "      <td>26</td>\n",
       "      <td>7</td>\n",
       "      <td>0</td>\n",
       "      <td>0</td>\n",
       "      <td>0</td>\n",
       "      <td>0</td>\n",
       "      <td>9</td>\n",
       "      <td>0</td>\n",
       "      <td>0</td>\n",
       "      <td>0</td>\n",
       "      <td>4</td>\n",
       "      <td>9</td>\n",
       "      <td>0</td>\n",
       "      <td>22</td>\n",
       "    </tr>\n",
       "    <tr>\n",
       "      <th>4</th>\n",
       "      <td>2021</td>\n",
       "      <td>12</td>\n",
       "      <td>106</td>\n",
       "      <td>26</td>\n",
       "      <td>7</td>\n",
       "      <td>0</td>\n",
       "      <td>4</td>\n",
       "      <td>4</td>\n",
       "      <td>0</td>\n",
       "      <td>0</td>\n",
       "      <td>0</td>\n",
       "      <td>0</td>\n",
       "      <td>0</td>\n",
       "      <td>7</td>\n",
       "      <td>6</td>\n",
       "      <td>0</td>\n",
       "      <td>21</td>\n",
       "    </tr>\n",
       "  </tbody>\n",
       "</table>\n",
       "</div>"
      ],
      "text/plain": [
       "    ano  mes  id_cisp  id_aisp  id_risp  quantidade_arma_fabricacao_caseira  \\\n",
       "0  2007   10       10        2        1                                   0   \n",
       "1  2021    2      105       26        7                                   0   \n",
       "2  2013   10      105       26        7                                   0   \n",
       "3  2021    5      105       26        7                                   0   \n",
       "4  2021   12      106       26        7                                   0   \n",
       "\n",
       "   quantidade_carabina  quantidade_espingarda  quantidade_fuzil  \\\n",
       "0                    0                      3                 7   \n",
       "1                    0                      3                 0   \n",
       "2                    1                      4                 0   \n",
       "3                    0                      0                 0   \n",
       "4                    4                      4                 0   \n",
       "\n",
       "   quantidade_garrucha  quantidade_garruchao  quantidade_metralhadora  \\\n",
       "0                    1                     0                        3   \n",
       "1                    7                     8                        0   \n",
       "2                    2                     0                        0   \n",
       "3                    9                     0                        0   \n",
       "4                    0                     0                        0   \n",
       "\n",
       "   quantidade_outros  quantidade_pistola  quantidade_revolver  \\\n",
       "0                  0                  12                    6   \n",
       "1                  0                   9                   11   \n",
       "2                  2                   5                    7   \n",
       "3                  0                   4                    9   \n",
       "4                  0                   7                    6   \n",
       "\n",
       "   quantidade_submetralhadora  total  \n",
       "0                           0     32  \n",
       "1                           0     38  \n",
       "2                           0     21  \n",
       "3                           0     22  \n",
       "4                           0     21  "
      ]
     },
     "metadata": {},
     "output_type": "display_data"
    }
   ],
   "source": [
    "print(\"Visualização das 5 primeiras linhas do dataset:\")\n",
    "display(df.head())"
   ]
  },
  {
   "cell_type": "markdown",
   "id": "7676d3ca-9fce-4499-bf5b-ee5dcbb4a7ff",
   "metadata": {},
   "source": [
    "## 4. Descobrir o tamanho do dataset"
   ]
  },
  {
   "cell_type": "code",
   "execution_count": 4,
   "id": "44735870-009b-46f6-ab8b-2e24c6d2f578",
   "metadata": {},
   "outputs": [
    {
     "name": "stdout",
     "output_type": "stream",
     "text": [
      "\n",
      "Número total de registros (linhas): 31380\n",
      "Número total de variáveis (colunas): 17\n"
     ]
    }
   ],
   "source": [
    "num_linhas, num_colunas = df.shape\n",
    "print(f'\\nNúmero total de registros (linhas): {num_linhas}')\n",
    "print(f'Número total de variáveis (colunas): {num_colunas}')"
   ]
  },
  {
   "cell_type": "markdown",
   "id": "82c5f241-44ba-411e-80fa-96f60d7fe0ee",
   "metadata": {},
   "source": [
    "## 5. Listar todas as variáveis disponíveis"
   ]
  },
  {
   "cell_type": "code",
   "execution_count": 5,
   "id": "61dd91a5-0646-432c-8a62-d46311e8c75f",
   "metadata": {},
   "outputs": [
    {
     "name": "stdout",
     "output_type": "stream",
     "text": [
      "\n",
      "Lista de variáveis no dataset:\n",
      "['ano', 'mes', 'id_cisp', 'id_aisp', 'id_risp', 'quantidade_arma_fabricacao_caseira', 'quantidade_carabina', 'quantidade_espingarda', 'quantidade_fuzil', 'quantidade_garrucha', 'quantidade_garruchao', 'quantidade_metralhadora', 'quantidade_outros', 'quantidade_pistola', 'quantidade_revolver', 'quantidade_submetralhadora', 'total']\n"
     ]
    }
   ],
   "source": [
    "print(\"\\nLista de variáveis no dataset:\")\n",
    "print(df.columns.tolist())"
   ]
  },
  {
   "cell_type": "markdown",
   "id": "3fbb100f-cb02-49f6-83fb-3fb15c969560",
   "metadata": {},
   "source": [
    "## 6. Identificar o tipo de dado de cada variável"
   ]
  },
  {
   "cell_type": "code",
   "execution_count": 6,
   "id": "5011f69a-a569-4bc0-9a9a-8d7286dc0432",
   "metadata": {},
   "outputs": [
    {
     "name": "stdout",
     "output_type": "stream",
     "text": [
      "\n",
      "Tipos de dados por variável:\n",
      "ano                                   int64\n",
      "mes                                   int64\n",
      "id_cisp                               int64\n",
      "id_aisp                               int64\n",
      "id_risp                               int64\n",
      "quantidade_arma_fabricacao_caseira    int64\n",
      "quantidade_carabina                   int64\n",
      "quantidade_espingarda                 int64\n",
      "quantidade_fuzil                      int64\n",
      "quantidade_garrucha                   int64\n",
      "quantidade_garruchao                  int64\n",
      "quantidade_metralhadora               int64\n",
      "quantidade_outros                     int64\n",
      "quantidade_pistola                    int64\n",
      "quantidade_revolver                   int64\n",
      "quantidade_submetralhadora            int64\n",
      "total                                 int64\n",
      "dtype: object\n"
     ]
    }
   ],
   "source": [
    "tipos_variaveis = df.dtypes\n",
    "print(\"\\nTipos de dados por variável:\")\n",
    "print(tipos_variaveis)"
   ]
  },
  {
   "cell_type": "markdown",
   "id": "5ec5bc4a-c9f0-4038-bafa-a40f60560686",
   "metadata": {},
   "source": [
    "## Classificação entre quantitativas e qualitativas"
   ]
  },
  {
   "cell_type": "code",
   "execution_count": 7,
   "id": "e5975bff-26ef-4456-aa1c-3e62679d798e",
   "metadata": {},
   "outputs": [
    {
     "name": "stdout",
     "output_type": "stream",
     "text": [
      "\n",
      "Variáveis Quantitativas:\n",
      "['ano', 'mes', 'id_cisp', 'id_aisp', 'id_risp', 'quantidade_arma_fabricacao_caseira', 'quantidade_carabina', 'quantidade_espingarda', 'quantidade_fuzil', 'quantidade_garrucha', 'quantidade_garruchao', 'quantidade_metralhadora', 'quantidade_outros', 'quantidade_pistola', 'quantidade_revolver', 'quantidade_submetralhadora', 'total']\n",
      "\n",
      "Variáveis Qualitativas:\n",
      "[]\n"
     ]
    }
   ],
   "source": [
    "quantitativas = []\n",
    "qualitativas = []\n",
    "\n",
    "for coluna in df.columns:\n",
    "    if pd.api.types.is_numeric_dtype(df[coluna]):\n",
    "        quantitativas.append(coluna)\n",
    "    else:\n",
    "        qualitativas.append(coluna)\n",
    "\n",
    "print(\"\\nVariáveis Quantitativas:\")\n",
    "print(quantitativas)\n",
    "\n",
    "print(\"\\nVariáveis Qualitativas:\")\n",
    "print(qualitativas)"
   ]
  },
  {
   "cell_type": "markdown",
   "id": "0a235722-5402-4e21-a00d-e0663ab361f0",
   "metadata": {},
   "source": [
    "## 7. Tabela resumo separando variáveis por tipo"
   ]
  },
  {
   "cell_type": "code",
   "execution_count": 8,
   "id": "0ae1f717-e091-4e3f-ac7f-3bb698b38f52",
   "metadata": {},
   "outputs": [
    {
     "name": "stdout",
     "output_type": "stream",
     "text": [
      "\n",
      "Tabela resumo:\n"
     ]
    },
    {
     "data": {
      "text/html": [
       "<div>\n",
       "<style scoped>\n",
       "    .dataframe tbody tr th:only-of-type {\n",
       "        vertical-align: middle;\n",
       "    }\n",
       "\n",
       "    .dataframe tbody tr th {\n",
       "        vertical-align: top;\n",
       "    }\n",
       "\n",
       "    .dataframe thead th {\n",
       "        text-align: right;\n",
       "    }\n",
       "</style>\n",
       "<table border=\"1\" class=\"dataframe\">\n",
       "  <thead>\n",
       "    <tr style=\"text-align: right;\">\n",
       "      <th></th>\n",
       "      <th>Variável</th>\n",
       "      <th>Tipo</th>\n",
       "    </tr>\n",
       "  </thead>\n",
       "  <tbody>\n",
       "    <tr>\n",
       "      <th>0</th>\n",
       "      <td>ano</td>\n",
       "      <td>Quantitativa</td>\n",
       "    </tr>\n",
       "    <tr>\n",
       "      <th>1</th>\n",
       "      <td>mes</td>\n",
       "      <td>Quantitativa</td>\n",
       "    </tr>\n",
       "    <tr>\n",
       "      <th>2</th>\n",
       "      <td>id_cisp</td>\n",
       "      <td>Quantitativa</td>\n",
       "    </tr>\n",
       "    <tr>\n",
       "      <th>3</th>\n",
       "      <td>id_aisp</td>\n",
       "      <td>Quantitativa</td>\n",
       "    </tr>\n",
       "    <tr>\n",
       "      <th>4</th>\n",
       "      <td>id_risp</td>\n",
       "      <td>Quantitativa</td>\n",
       "    </tr>\n",
       "    <tr>\n",
       "      <th>5</th>\n",
       "      <td>quantidade_arma_fabricacao_caseira</td>\n",
       "      <td>Quantitativa</td>\n",
       "    </tr>\n",
       "    <tr>\n",
       "      <th>6</th>\n",
       "      <td>quantidade_carabina</td>\n",
       "      <td>Quantitativa</td>\n",
       "    </tr>\n",
       "    <tr>\n",
       "      <th>7</th>\n",
       "      <td>quantidade_espingarda</td>\n",
       "      <td>Quantitativa</td>\n",
       "    </tr>\n",
       "    <tr>\n",
       "      <th>8</th>\n",
       "      <td>quantidade_fuzil</td>\n",
       "      <td>Quantitativa</td>\n",
       "    </tr>\n",
       "    <tr>\n",
       "      <th>9</th>\n",
       "      <td>quantidade_garrucha</td>\n",
       "      <td>Quantitativa</td>\n",
       "    </tr>\n",
       "    <tr>\n",
       "      <th>10</th>\n",
       "      <td>quantidade_garruchao</td>\n",
       "      <td>Quantitativa</td>\n",
       "    </tr>\n",
       "    <tr>\n",
       "      <th>11</th>\n",
       "      <td>quantidade_metralhadora</td>\n",
       "      <td>Quantitativa</td>\n",
       "    </tr>\n",
       "    <tr>\n",
       "      <th>12</th>\n",
       "      <td>quantidade_outros</td>\n",
       "      <td>Quantitativa</td>\n",
       "    </tr>\n",
       "    <tr>\n",
       "      <th>13</th>\n",
       "      <td>quantidade_pistola</td>\n",
       "      <td>Quantitativa</td>\n",
       "    </tr>\n",
       "    <tr>\n",
       "      <th>14</th>\n",
       "      <td>quantidade_revolver</td>\n",
       "      <td>Quantitativa</td>\n",
       "    </tr>\n",
       "    <tr>\n",
       "      <th>15</th>\n",
       "      <td>quantidade_submetralhadora</td>\n",
       "      <td>Quantitativa</td>\n",
       "    </tr>\n",
       "    <tr>\n",
       "      <th>16</th>\n",
       "      <td>total</td>\n",
       "      <td>Quantitativa</td>\n",
       "    </tr>\n",
       "  </tbody>\n",
       "</table>\n",
       "</div>"
      ],
      "text/plain": [
       "                              Variável          Tipo\n",
       "0                                  ano  Quantitativa\n",
       "1                                  mes  Quantitativa\n",
       "2                              id_cisp  Quantitativa\n",
       "3                              id_aisp  Quantitativa\n",
       "4                              id_risp  Quantitativa\n",
       "5   quantidade_arma_fabricacao_caseira  Quantitativa\n",
       "6                  quantidade_carabina  Quantitativa\n",
       "7                quantidade_espingarda  Quantitativa\n",
       "8                     quantidade_fuzil  Quantitativa\n",
       "9                  quantidade_garrucha  Quantitativa\n",
       "10                quantidade_garruchao  Quantitativa\n",
       "11             quantidade_metralhadora  Quantitativa\n",
       "12                   quantidade_outros  Quantitativa\n",
       "13                  quantidade_pistola  Quantitativa\n",
       "14                 quantidade_revolver  Quantitativa\n",
       "15          quantidade_submetralhadora  Quantitativa\n",
       "16                               total  Quantitativa"
      ]
     },
     "metadata": {},
     "output_type": "display_data"
    }
   ],
   "source": [
    "tabela_resumo = pd.DataFrame({\n",
    "    'Variável': quantitativas + qualitativas,\n",
    "    'Tipo': ['Quantitativa'] * len(quantitativas) + ['Qualitativa'] * len(qualitativas)\n",
    "})\n",
    "print(\"\\nTabela resumo:\")\n",
    "display(tabela_resumo)"
   ]
  }
 ],
 "metadata": {
  "kernelspec": {
   "display_name": "Python 3 (ipykernel)",
   "language": "python",
   "name": "python3"
  },
  "language_info": {
   "codemirror_mode": {
    "name": "ipython",
    "version": 3
   },
   "file_extension": ".py",
   "mimetype": "text/x-python",
   "name": "python",
   "nbconvert_exporter": "python",
   "pygments_lexer": "ipython3",
   "version": "3.10.6"
  }
 },
 "nbformat": 4,
 "nbformat_minor": 5
}
